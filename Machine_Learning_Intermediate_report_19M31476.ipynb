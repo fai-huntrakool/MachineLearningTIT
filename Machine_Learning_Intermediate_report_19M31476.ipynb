{
  "nbformat": 4,
  "nbformat_minor": 0,
  "metadata": {
    "colab": {
      "name": "Machine Learning: Intermediate report: 19M31476",
      "version": "0.3.2",
      "provenance": [],
      "collapsed_sections": []
    },
    "kernelspec": {
      "name": "python3",
      "display_name": "Python 3"
    }
  },
  "cells": [
    {
      "cell_type": "markdown",
      "metadata": {
        "id": "QfmlMV3eLxuV",
        "colab_type": "text"
      },
      "source": [
        "# Machine Learning: Intermediate report\n",
        "\n",
        "HUNTRAKOOL PORNNAPAS\n",
        "19M31476\n",
        "\n",
        "link to colab: https://colab.research.google.com/drive/1nE0wGUSsGGwLmbj1FYM0IuQotnqD97-l"
      ]
    },
    {
      "cell_type": "markdown",
      "metadata": {
        "id": "6QlAoqzjMAYd",
        "colab_type": "text"
      },
      "source": [
        "**1. Multi-class classification on MNIST**\n",
        "\n",
        "Train a model on the training set of MNIST, and report the performance of the model on the test set in the following evaluation measures:\n",
        "\n",
        "\n",
        "*   Accuracy\n",
        "*   Precision, recall, and F1 scores on each category (digit)\n",
        "*   Macro-averaged precision, recall, and F1 scores (i.e., the averages of the above measures for all categories)\n",
        "\n",
        "\n",
        "One can use the same code shown in the lecture. Write a code here and show the output.\n"
      ]
    },
    {
      "cell_type": "code",
      "metadata": {
        "id": "sAWhZy04LxUl",
        "colab_type": "code",
        "colab": {}
      },
      "source": [
        "import torch\n",
        "import torchvision\n",
        "import torchvision.transforms as transforms\n",
        "import numpy as np\n",
        "import torch.optim as optim\n",
        "import torch.nn as nn\n",
        "import torch.nn.functional as F"
      ],
      "execution_count": 0,
      "outputs": []
    },
    {
      "cell_type": "code",
      "metadata": {
        "id": "ogjy7o3TPYTk",
        "colab_type": "code",
        "colab": {}
      },
      "source": [
        "transform = transforms.Compose([transforms.ToTensor()])\n",
        "trainset = torchvision.datasets.MNIST(root='./data', \n",
        "                                        train=True,\n",
        "                                        download=True,\n",
        "                                        transform=transform)\n",
        "testset = torchvision.datasets.MNIST(root='./data', \n",
        "                                        train=False,\n",
        "                                        download=True,\n",
        "                                        transform=transform)"
      ],
      "execution_count": 0,
      "outputs": []
    },
    {
      "cell_type": "code",
      "metadata": {
        "id": "kf2kyvrKPZg8",
        "colab_type": "code",
        "colab": {}
      },
      "source": [
        "train_loader=torch.utils.data.DataLoader(trainset,batch_size=128,shuffle=True)\n",
        "test_loader=torch.utils.data.DataLoader(testset,batch_size=1,shuffle=True)"
      ],
      "execution_count": 0,
      "outputs": []
    },
    {
      "cell_type": "code",
      "metadata": {
        "id": "gEH2Mu4sQ2qL",
        "colab_type": "code",
        "colab": {}
      },
      "source": [
        "#CNN Architecture\n",
        "class Net(nn.Module):\n",
        "    def __init__(self):\n",
        "        super(Net, self).__init__()\n",
        "        self.conv1=nn.Conv2d(1,32,3)\n",
        "        self.conv2=nn.Conv2d(32,64,3)\n",
        "        self.pool=nn.MaxPool2d(2,2)\n",
        "        self.dropout1=nn.Dropout2d()\n",
        "        self.fc1=nn.Linear(12*12*64,128)\n",
        "        self.dropout2=nn.Dropout2d()\n",
        "        self.fc2=nn.Linear(128,10)\n",
        "\n",
        "    def forward(self, x):\n",
        "        x=F.relu(self.conv1(x))\n",
        "        x=self.pool(F.relu(self.conv2(x)))\n",
        "        x=self.dropout1(x)\n",
        "        x=x.view(-1,12*12*64)\n",
        "        x=F.relu(self.fc1(x))\n",
        "        x=self.dropout2(x)\n",
        "        x=self.fc2(x)\n",
        "        return F.softmax(x,dim=1)\n",
        "net = Net()"
      ],
      "execution_count": 0,
      "outputs": []
    },
    {
      "cell_type": "code",
      "metadata": {
        "id": "8vJ0IiIbQ8Dc",
        "colab_type": "code",
        "colab": {}
      },
      "source": [
        "criterion = nn.CrossEntropyLoss()\n",
        "optimizer = optim.SGD(net.parameters(), lr=0.001, momentum=0.9)\n",
        "\n",
        "def accuracy(pred,y):\n",
        "    pred=torch.max(pred.data,1)[1]\n",
        "    acc = (y==pred).sum().item()\n",
        "    return acc/len(y)"
      ],
      "execution_count": 0,
      "outputs": []
    },
    {
      "cell_type": "code",
      "metadata": {
        "id": "UJqDZCt-SyZb",
        "colab_type": "code",
        "outputId": "9a07ad42-4e2d-4bfd-b501-83026a98274b",
        "colab": {
          "base_uri": "https://localhost:8080/",
          "height": 187
        }
      },
      "source": [
        "#Training\n",
        "epochs=10\n",
        "list_loss=[]\n",
        "list_acc=[]\n",
        "for epoch in range(epochs):\n",
        "    running_loss=0\n",
        "    running_accuracy=0\n",
        "    for i,(data,labels) in enumerate(train_loader):\n",
        "        optimizer.zero_grad()\n",
        "        y_pred=net(data)\n",
        "        loss=criterion(y_pred,labels)\n",
        "        loss.backward()\n",
        "        optimizer.step()\n",
        "        running_loss+=loss.item()\n",
        "        running_accuracy+=accuracy(y_pred,labels)\n",
        "    running_loss/=i\n",
        "    running_accuracy/=i\n",
        "    list_loss.append(running_loss)\n",
        "    list_acc.append(running_accuracy)\n",
        "    print('epoch %d : loss = %.3f , accuracy = %.3f'%(epoch+1,running_loss,running_accuracy))"
      ],
      "execution_count": 95,
      "outputs": [
        {
          "output_type": "stream",
          "text": [
            "epoch 1 : loss = 2.307 , accuracy = 0.123\n",
            "epoch 2 : loss = 2.304 , accuracy = 0.189\n",
            "epoch 3 : loss = 2.294 , accuracy = 0.301\n",
            "epoch 4 : loss = 2.185 , accuracy = 0.408\n",
            "epoch 5 : loss = 1.840 , accuracy = 0.688\n",
            "epoch 6 : loss = 1.709 , accuracy = 0.786\n",
            "epoch 7 : loss = 1.642 , accuracy = 0.850\n",
            "epoch 8 : loss = 1.614 , accuracy = 0.871\n",
            "epoch 9 : loss = 1.599 , accuracy = 0.881\n",
            "epoch 10 : loss = 1.589 , accuracy = 0.890\n"
          ],
          "name": "stdout"
        }
      ]
    },
    {
      "cell_type": "code",
      "metadata": {
        "id": "GkM7cRFBRGok",
        "colab_type": "code",
        "outputId": "68b3559f-8be7-4a2c-e679-831004002591",
        "colab": {
          "base_uri": "https://localhost:8080/",
          "height": 283
        }
      },
      "source": [
        "#Visualize accuracy/loss per epoch\n",
        "\n",
        "import matplotlib.pyplot as plt\n",
        "f = plt.figure(figsize=(13,4))\n",
        "ax1 = f.add_subplot(121)\n",
        "ax1.plot(list_acc,label='train')\n",
        "ax1.grid( linestyle='--')\n",
        "ax1.set_xlabel('Epoch')\n",
        "ax1.set_ylabel('Accuracy')\n",
        "ax2 = f.add_subplot(122)\n",
        "ax2.plot(list_loss,label='train')\n",
        "ax2.set_xlabel('Epoch')\n",
        "ax2.set_ylabel('Cross-Entropy Loss')\n",
        "ax2.grid( linestyle='--')\n",
        "plt.show()"
      ],
      "execution_count": 96,
      "outputs": [
        {
          "output_type": "display_data",
          "data": {
            "image/png": "[encoded data removed]",
            "text/plain": [
              "<Figure size 936x288 with 2 Axes>"
            ]
          },
          "metadata": {
            "tags": []
          }
        }
      ]
    },
    {
      "cell_type": "code",
      "metadata": {
        "id": "p_tYcOPcSRL1",
        "colab_type": "code",
        "colab": {}
      },
      "source": [
        "#test\n",
        "net.eval()\n",
        "test_list_loss=[]\n",
        "test_liss_acc=[]\n",
        "confusion_matrix=np.zeros((10,10))\n",
        "running_loss=0\n",
        "running_accuracy=0\n",
        "predicted_label=[]\n",
        "softmax_cal=np.zeros((len(test_loader),10))\n",
        "with torch.no_grad():\n",
        "  for i,(data,labels) in enumerate(test_loader):\n",
        "      y_pred=net(data)\n",
        "      test_loss=criterion(y_pred,labels)\n",
        "      confusion_matrix[labels,torch.max(y_pred.data,1)[1]]+=1\n",
        "      predicted_label.append(torch.max(y_pred.data,1)[1])\n",
        "      softmax_cal[i,:]=y_pred.data\n",
        "      running_loss+=test_loss.item()\n",
        "      running_accuracy+=accuracy(y_pred,labels)\n",
        "  running_loss/=i\n",
        "  running_accuracy/=i\n",
        "  test_list_loss.append(running_loss)\n",
        "  test_liss_acc.append(running_accuracy)\n",
        "  "
      ],
      "execution_count": 0,
      "outputs": []
    },
    {
      "cell_type": "code",
      "metadata": {
        "id": "CMk1BJ-Dps-2",
        "colab_type": "code",
        "colab": {
          "base_uri": "https://localhost:8080/",
          "height": 68
        },
        "outputId": "067cda4c-c93d-48d9-ad0c-f3178bdf94f6"
      },
      "source": [
        "softmax_cal[0,:]"
      ],
      "execution_count": 98,
      "outputs": [
        {
          "output_type": "execute_result",
          "data": {
            "text/plain": [
              "array([1.02903856e-14, 9.99998927e-01, 2.87253528e-07, 3.97977288e-07,\n",
              "       2.03052974e-11, 6.59826027e-10, 2.68331513e-09, 5.98283947e-08,\n",
              "       3.39054367e-07, 6.65054767e-09])"
            ]
          },
          "metadata": {
            "tags": []
          },
          "execution_count": 98
        }
      ]
    },
    {
      "cell_type": "markdown",
      "metadata": {
        "id": "T7DC9E5ghnLi",
        "colab_type": "text"
      },
      "source": [
        "**Accuracy / Precision / Recall**"
      ]
    },
    {
      "cell_type": "code",
      "metadata": {
        "id": "dT_EcPyfhWjQ",
        "colab_type": "code",
        "outputId": "ce29b505-c728-4d1f-86c4-e985ad676d2b",
        "colab": {
          "base_uri": "https://localhost:8080/",
          "height": 34
        }
      },
      "source": [
        " print('accuracy : %0.3f'%(running_accuracy))"
      ],
      "execution_count": 99,
      "outputs": [
        {
          "output_type": "stream",
          "text": [
            "accuracy : 0.920\n"
          ],
          "name": "stdout"
        }
      ]
    },
    {
      "cell_type": "markdown",
      "metadata": {
        "id": "6NATyXFehfF4",
        "colab_type": "text"
      },
      "source": [
        "**Precision, recall, and F1 scores on each category (digit)**"
      ]
    },
    {
      "cell_type": "code",
      "metadata": {
        "id": "SWeWIetahb9J",
        "colab_type": "code",
        "outputId": "4511eae4-8d8c-454d-9814-4342289f996f",
        "colab": {
          "base_uri": "https://localhost:8080/",
          "height": 221
        }
      },
      "source": [
        "from collections import defaultdict\n",
        "import pandas as pd\n",
        "\n",
        "all_score=defaultdict(dict)\n",
        "for i in range(len(confusion_matrix)):\n",
        "  all_score[i]={'recall':confusion_matrix[i,i]/np.sum(confusion_matrix[:,i]),\n",
        "                'precision':confusion_matrix[i,i]/np.sum(confusion_matrix[i,:]),\n",
        "                'acc':confusion_matrix[i,i]/(np.sum(confusion_matrix[:,i])+np.sum(confusion_matrix[i,:])-confusion_matrix[i,i]),\n",
        "                'F1':2*confusion_matrix[i,i]/np.sum(confusion_matrix[i,:])*confusion_matrix[i,i]/np.sum(confusion_matrix[:,i])/(confusion_matrix[i,i]/np.sum(confusion_matrix[i,:])+confusion_matrix[i,i]/np.sum(confusion_matrix[:,i]))}\n",
        "print('Macro score by digit')\n",
        "print(pd.DataFrame.from_dict(all_score, orient='index'))"
      ],
      "execution_count": 107,
      "outputs": [
        {
          "output_type": "stream",
          "text": [
            "Macro score by digit\n",
            "     recall  precision       acc        F1\n",
            "0  0.930300   0.980612  0.913498  0.954794\n",
            "1  0.972052   0.980617  0.953728  0.976316\n",
            "2  0.911647   0.879845  0.810714  0.895464\n",
            "3  0.908726   0.897030  0.822888  0.902840\n",
            "4  0.911155   0.939919  0.861007  0.925313\n",
            "5  0.897983   0.848655  0.774029  0.872622\n",
            "6  0.924720   0.948852  0.880814  0.936631\n",
            "7  0.922330   0.924125  0.857401  0.923226\n",
            "8  0.875374   0.901437  0.798908  0.888214\n",
            "9  0.933124   0.885035  0.832246  0.908444\n"
          ],
          "name": "stdout"
        }
      ]
    },
    {
      "cell_type": "markdown",
      "metadata": {
        "id": "rK-FD1IV79XC",
        "colab_type": "text"
      },
      "source": [
        "**Macro-averaged precision, recall, and F1 scores (i.e., the averages of the above measures for all categories)**"
      ]
    },
    {
      "cell_type": "code",
      "metadata": {
        "id": "UGLBGUiQ8H1Z",
        "colab_type": "code",
        "colab": {
          "base_uri": "https://localhost:8080/",
          "height": 102
        },
        "outputId": "f4be9bb9-3fd4-4494-ee80-b7264cc222e0"
      },
      "source": [
        "test=pd.DataFrame.from_dict(all_score, orient='index')\n",
        "test.mean()"
      ],
      "execution_count": 110,
      "outputs": [
        {
          "output_type": "execute_result",
          "data": {
            "text/plain": [
              "recall       0.918741\n",
              "precision    0.918613\n",
              "acc          0.850523\n",
              "F1           0.918386\n",
              "dtype: float64"
            ]
          },
          "metadata": {
            "tags": []
          },
          "execution_count": 110
        }
      ]
    },
    {
      "cell_type": "markdown",
      "metadata": {
        "id": "u-0VBLx3MQNk",
        "colab_type": "text"
      },
      "source": [
        "**2. Confusion matrix**\n",
        "\n",
        "Show a confusion matrix of the predictions of the model on the test set. "
      ]
    },
    {
      "cell_type": "code",
      "metadata": {
        "id": "zjHMsoEnMSuE",
        "colab_type": "code",
        "outputId": "811e32e2-e008-4b2d-ee42-9a414ecc7253",
        "colab": {
          "base_uri": "https://localhost:8080/",
          "height": 655
        }
      },
      "source": [
        "labels=''.join(list(map(str,list(np.arange(0,10)))))\n",
        "\n",
        "fig = plt.figure(figsize=(10,10))\n",
        "plt.title('Confusion matrix')\n",
        "ax = fig.add_subplot(111)\n",
        "cax = ax.matshow(confusion_matrix,cmap=plt.cm.gray_r)\n",
        "fig.colorbar(cax)\n",
        "plt.xticks(np.arange(10),labels)\n",
        "plt.yticks(np.arange(10),labels)\n",
        "plt.xlabel('Predicted label')\n",
        "plt.ylabel('True label')\n",
        "plt.show()"
      ],
      "execution_count": 101,
      "outputs": [
        {
          "output_type": "stream",
          "text": [
            "/usr/local/lib/python3.6/dist-packages/matplotlib/figure.py:98: MatplotlibDeprecationWarning: \n",
            "Adding an axes using the same arguments as a previous axes currently reuses the earlier instance.  In a future version, a new instance will always be created and returned.  Meanwhile, this warning can be suppressed, and the future behavior ensured, by passing a unique label to each axes instance.\n",
            "  \"Adding an axes using the same arguments as a previous axes \"\n"
          ],
          "name": "stderr"
        },
        {
          "output_type": "display_data",
          "data": {
            "image/png": "[encoded data removed]",
            "text/plain": [
              "<Figure size 720x720 with 2 Axes>"
            ]
          },
          "metadata": {
            "tags": []
          }
        }
      ]
    },
    {
      "cell_type": "code",
      "metadata": {
        "id": "MSAyhIVXijAh",
        "colab_type": "code",
        "outputId": "6a321d39-0dd1-43bf-e37c-08069d1553e9",
        "colab": {
          "base_uri": "https://localhost:8080/",
          "height": 204
        }
      },
      "source": [
        "import pandas as pd\n",
        "print(pd.DataFrame(confusion_matrix))"
      ],
      "execution_count": 102,
      "outputs": [
        {
          "output_type": "stream",
          "text": [
            "       0       1      2      3      4      5      6      7      8      9\n",
            "0  961.0     0.0    1.0    2.0    0.0    4.0    6.0    1.0    5.0    0.0\n",
            "1    0.0  1113.0    5.0    4.0    0.0    0.0    3.0    2.0    8.0    0.0\n",
            "2   14.0     2.0  908.0   13.0   17.0    1.0   22.0   18.0   36.0    1.0\n",
            "3    3.0     1.0   23.0  906.0    1.0   29.0    2.0   16.0   24.0    5.0\n",
            "4    1.0     2.0    6.0    0.0  923.0    0.0   15.0    2.0    4.0   29.0\n",
            "5   15.0     3.0    7.0   41.0   13.0  757.0   16.0    4.0   32.0    4.0\n",
            "6   14.0     3.0    5.0    2.0    6.0   16.0  909.0    1.0    2.0    0.0\n",
            "7    4.0    11.0   30.0    1.0   10.0    0.0    0.0  950.0    4.0   18.0\n",
            "8    7.0     4.0    8.0   17.0    9.0   25.0    9.0   10.0  878.0    7.0\n",
            "9   14.0     6.0    3.0   11.0   34.0   11.0    1.0   26.0   10.0  893.0\n"
          ],
          "name": "stdout"
        }
      ]
    },
    {
      "cell_type": "markdown",
      "metadata": {
        "id": "1DoksdmGMTYl",
        "colab_type": "text"
      },
      "source": [
        "**3. Top-3 easy and confusing examples**\n",
        "\n",
        "Show the top three easy and three confusing, respectively, images where the model recognized their digits with strong confidences. More specifically, let $y_n$ and $\\hat{y}_n$ the true and predicted, respectively, digits of the image $x_n$. We want to find three images with high $P(\\hat{y}_n | x_n)$ when $y_n = \\hat{y}_n$ (easy examples) $y_n \\neq \\hat{y}_n$ (confusing examples).\n",
        "\n",
        "Please show $y_n$, $P(y_n | x_n)$, $\\hat{y}_n$, and $P(\\hat{y}_n | x_n)$\n"
      ]
    },
    {
      "cell_type": "markdown",
      "metadata": {
        "id": "trfovM6gxmfd",
        "colab_type": "text"
      },
      "source": [
        "Construct list for finding highest $P(\\hat{y}_n | x_n)$"
      ]
    },
    {
      "cell_type": "code",
      "metadata": {
        "id": "FdQ_Y-XocRKK",
        "colab_type": "code",
        "colab": {}
      },
      "source": [
        "top_easy=list(np.amax(softmax_cal,axis=1))\n",
        "predicted=list(np.argmax(softmax_cal,axis=1))\n",
        "true_label=[[int(example_label),example_data] for batch_id,(example_data,example_label) in enumerate(test_loader)]"
      ],
      "execution_count": 0,
      "outputs": []
    },
    {
      "cell_type": "code",
      "metadata": {
        "id": "z60287thr8Ku",
        "colab_type": "code",
        "colab": {
          "base_uri": "https://localhost:8080/",
          "height": 34
        },
        "outputId": "8009e53a-e27e-46cc-c7ee-06950d875538"
      },
      "source": [
        "combine=[[i,j,z,p[z],data] for i,j,[z,data],p in zip(top_easy,predicted,true_label,softmax_cal)]\n",
        "sorted(combine,key=lambda x: x[0],reverse=True)\n",
        "print('.')"
      ],
      "execution_count": 104,
      "outputs": [
        {
          "output_type": "stream",
          "text": [
            ".\n"
          ],
          "name": "stdout"
        }
      ]
    },
    {
      "cell_type": "markdown",
      "metadata": {
        "id": "eEkM9S2pUFX7",
        "colab_type": "text"
      },
      "source": [
        "\n",
        "\n",
        "1.   Top three easy\n",
        "\n"
      ]
    },
    {
      "cell_type": "code",
      "metadata": {
        "id": "f-J45fcpeIp5",
        "colab_type": "code",
        "colab": {
          "base_uri": "https://localhost:8080/",
          "height": 875
        },
        "outputId": "7bf2656a-3e3c-406e-f1de-440e97856199"
      },
      "source": [
        "i=0\n",
        "for score,pred,true,score_true,data in combine:\n",
        "    if i>2:\n",
        "      break\n",
        "    elif pred==true:\n",
        "        print('true label: {} ({})'.format(true,score_true))\n",
        "        print('predicted label: {} ({}) '.format(pred,score))\n",
        "        image=(data[0,0,:,:].numpy())\n",
        "        plt.imshow(image,cmap='Greys')\n",
        "        plt.show()\n",
        "        i+=1"
      ],
      "execution_count": 105,
      "outputs": [
        {
          "output_type": "stream",
          "text": [
            "true label: 1 (0.999998927116394)\n",
            "predicted label: 1 (0.999998927116394) \n"
          ],
          "name": "stdout"
        },
        {
          "output_type": "display_data",
          "data": {
            "image/png": "[encoded data removed]",
            "text/plain": [
              "<Figure size 432x288 with 1 Axes>"
            ]
          },
          "metadata": {
            "tags": []
          }
        },
        {
          "output_type": "stream",
          "text": [
            "true label: 7 (0.9999172687530518)\n",
            "predicted label: 7 (0.9999172687530518) \n"
          ],
          "name": "stdout"
        },
        {
          "output_type": "display_data",
          "data": {
            "image/png": "[encoded data removed]",
            "text/plain": [
              "<Figure size 432x288 with 1 Axes>"
            ]
          },
          "metadata": {
            "tags": []
          }
        },
        {
          "output_type": "stream",
          "text": [
            "true label: 8 (0.9858689308166504)\n",
            "predicted label: 8 (0.9858689308166504) \n"
          ],
          "name": "stdout"
        },
        {
          "output_type": "display_data",
          "data": {
            "image/png": "[encoded data removed]",
            "text/plain": [
              "<Figure size 432x288 with 1 Axes>"
            ]
          },
          "metadata": {
            "tags": []
          }
        }
      ]
    },
    {
      "cell_type": "markdown",
      "metadata": {
        "id": "HfvO5jpuUO1j",
        "colab_type": "text"
      },
      "source": [
        "2. Top three confusing"
      ]
    },
    {
      "cell_type": "code",
      "metadata": {
        "id": "gDWuav8rUQMT",
        "colab_type": "code",
        "colab": {
          "base_uri": "https://localhost:8080/",
          "height": 875
        },
        "outputId": "b59ac7c6-5895-4b24-fb17-9cc2fb8206cb"
      },
      "source": [
        "i=0\n",
        "for score,pred,true,score_true,data in combine:\n",
        "    if i>2:\n",
        "      break\n",
        "    elif pred!=true:\n",
        "        print('true label: {} ({})'.format(true,score_true))\n",
        "        print('predicted label: {} ({}) '.format(pred,score))\n",
        "        image=(data[0,0,:,:].numpy())\n",
        "        plt.imshow(image,cmap='Greys')\n",
        "        plt.show()\n",
        "        i+=1"
      ],
      "execution_count": 106,
      "outputs": [
        {
          "output_type": "stream",
          "text": [
            "true label: 7 (2.4732236852287315e-05)\n",
            "predicted label: 1 (0.9999301433563232) \n"
          ],
          "name": "stdout"
        },
        {
          "output_type": "display_data",
          "data": {
            "image/png": "[encoded data removed]",
            "text/plain": [
              "<Figure size 432x288 with 1 Axes>"
            ]
          },
          "metadata": {
            "tags": []
          }
        },
        {
          "output_type": "stream",
          "text": [
            "true label: 1 (3.292756900918903e-06)\n",
            "predicted label: 6 (0.9014251828193665) \n"
          ],
          "name": "stdout"
        },
        {
          "output_type": "display_data",
          "data": {
            "image/png": "[encoded data removed]",
            "text/plain": [
              "<Figure size 432x288 with 1 Axes>"
            ]
          },
          "metadata": {
            "tags": []
          }
        },
        {
          "output_type": "stream",
          "text": [
            "true label: 4 (4.1194892583132445e-15)\n",
            "predicted label: 0 (0.9998317956924438) \n"
          ],
          "name": "stdout"
        },
        {
          "output_type": "display_data",
          "data": {
            "image/png": "[encoded data removed]",
            "text/plain": [
              "<Figure size 432x288 with 1 Axes>"
            ]
          },
          "metadata": {
            "tags": []
          }
        }
      ]
    }
  ]
}